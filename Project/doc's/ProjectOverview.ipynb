{
 "cells": [
  {
   "cell_type": "markdown",
   "metadata": {},
   "source": [
    "# Graph Theory Project Overview\n",
    "The project involves writing a program in Python to execute Rgeular Expressions on strings using an algorithm known as Thompson’s Construction.\n",
    "> ###### Last commit due on the 3rd of April 2020.\n",
    "> ###### Version Control : GitHub - [Moran98](https://github.com/Moran98/graph-theory)\n",
    "> ###### Student Name : Aaron Moran\n",
    "> ###### Student ID : G00356519\n",
    "\n",
    "## Problem statement\n",
    " \n",
    " >You must write a program in the Python programming language [2] that canbuild a non-deterministic finite automaton (NFA) from a regular expression,and can use the NFA to check if the regular expression matches any givenstring of text.  You must write the program from scratch and cannot use therepackage from the Python standard library nor any other external library.A regular expression is a string containing a series of characters, some ofwhich may have a special meaning.  For example, the three characters.,|,and*have the special meaningsconcatenate,or, andKleene starrespectively.For example, the regular expression0.1means a 0 followed by a 1,0|1meansa 0 or a 1, and1*means any number of 1’s.  These special characters mustbe used in your submission.Other special characters you might consider allowing as input are brackets()which can be used for grouping,+which meansat least one of, and?whichmeanszero or one of.  You might also decide to remove the concatenationcharacter, so that 1.0 becomes 10, with the concatenation implicit.  You mayinitially restrict the non-special characters your program works with to 0 and1.  However, you should at least attempt to expand these to all the digits,and the charactersatoz, and A to Z.\n",
    "\n",
    "\n",
    "## References \n",
    "* [Dr. Ian McLoughlin](https://github.com/ianmcloughlin)\n",
    "\n",
    "#####  Statements taken from the Design Document for module Graph Theory 2020.\n"
   ]
  }
 ],
 "metadata": {
  "kernelspec": {
   "display_name": "Python 3",
   "language": "python",
   "name": "python3"
  },
  "language_info": {
   "codemirror_mode": {
    "name": "ipython",
    "version": 3
   },
   "file_extension": ".py",
   "mimetype": "text/x-python",
   "name": "python",
   "nbconvert_exporter": "python",
   "pygments_lexer": "ipython3",
   "version": "3.7.4"
  }
 },
 "nbformat": 4,
 "nbformat_minor": 2
}
